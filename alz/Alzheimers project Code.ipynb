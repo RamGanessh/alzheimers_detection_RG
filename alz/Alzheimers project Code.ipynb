{
  "cells": [
    {
      "cell_type": "markdown",
      "source": [
        "**Alzheimer's Detection Project**"
      ],
      "metadata": {
        "id": "4FUwu_paSP82"
      }
    },
    {
      "cell_type": "code",
      "execution_count": 28,
      "metadata": {
        "colab": {
          "base_uri": "https://localhost:8080/"
        },
        "id": "RmdIuGiTZ5b2",
        "outputId": "b19ea093-56e0-4b05-d345-4779433525eb"
      },
      "outputs": [
        {
          "output_type": "stream",
          "name": "stdout",
          "text": [
            "Found 5121 images belonging to 4 classes.\n",
            "Found 1279 images belonging to 4 classes.\n"
          ]
        }
      ],
      "source": [
        "from tensorflow.keras.preprocessing.image import ImageDataGenerator\n",
        "import os\n",
        "import zipfile\n",
        "\n",
        "# Define our example directories and files\n",
        "base_dir = '/content/drive/MyDrive/Alzheimer_s Dataset'\n",
        "\n",
        "train_dir = os.path.join( base_dir, 'train')\n",
        "test_dir = os.path.join( base_dir, 'test')\n",
        "\n",
        "batch_size1 = 32\n",
        "img_height = 208\n",
        "img_width = 176\n",
        "numClasses=4\n",
        "epoch1=50\n",
        "\n",
        "\n",
        "train_MildDemented_dir = os.path.join(train_dir, 'MildDemented') \n",
        "train_ModerateDemented_dir = os.path.join(train_dir, 'ModerateDemented') \n",
        "train_NonDemented_dir = os.path.join(train_dir, 'NonDemented')\n",
        "train_VeryMildDemented_dir = os.path.join(train_dir, 'VeryMildDemented')\n",
        "\n",
        "test_MildDemented_dir = os.path.join(test_dir, 'MildDemented') \n",
        "test_ModerateDemented_dir = os.path.join(test_dir, 'ModerateDemented') \n",
        "test_NonDemented_dir = os.path.join(test_dir, 'NonDemented')\n",
        "test_VeryMildDemented_dir = os.path.join(test_dir, 'VeryMildDemented')\n",
        "\n",
        "\n",
        "# Add our data-augmentation parameters to ImageDataGenerator\n",
        "train_datagen = ImageDataGenerator(rescale = 1.0/255.0,rotation_range=40,\n",
        "                                    width_shift_range=0.2,\n",
        "                                    height_shift_range=0.2,\n",
        "                                    shear_range=0.2,\n",
        "                                    zoom_range=0.2,\n",
        "                                    horizontal_flip=True,\n",
        "                                    fill_mode='nearest' )\n",
        "\n",
        "# Note that the validation data should not be augmented!\n",
        "test_datagen = ImageDataGenerator( rescale = 1.0/255.0 )\n",
        "\n",
        "# Flow training images in batches of 20 using train_datagen generator\n",
        "train_generator = train_datagen.flow_from_directory(train_dir,\n",
        "                                                    batch_size = batch_size1,\n",
        "                                                    class_mode = 'categorical', \n",
        "                                                    target_size = (img_height,img_width))     \n",
        "\n",
        "# Flow validation images in batches of 20 using test_datagen generator\n",
        "test_generator =  test_datagen.flow_from_directory( test_dir,\n",
        "                                                          batch_size  = batch_size1,\n",
        "                                                          class_mode  = 'categorical', \n",
        "                                                          target_size = (img_height, img_width))"
      ]
    },
    {
      "cell_type": "markdown",
      "source": [
        "Importing necessary libraries"
      ],
      "metadata": {
        "id": "NdRTa5cgTJOz"
      }
    },
    {
      "cell_type": "code",
      "execution_count": 29,
      "metadata": {
        "id": "FOe4a58UbSi0"
      },
      "outputs": [],
      "source": [
        "import tensorflow as tf"
      ]
    },
    {
      "cell_type": "code",
      "execution_count": 30,
      "metadata": {
        "id": "kAGD7Lqpa_de"
      },
      "outputs": [],
      "source": [
        "import keras\n",
        "import numpy as np\n",
        "from keras.applications import vgg16\n",
        "from keras.models import Sequential, Model\n",
        "from keras.layers import Dense, Flatten\n",
        "from keras.preprocessing.image import ImageDataGenerator\n",
        "from keras import optimizers"
      ]
    },
    {
      "cell_type": "markdown",
      "source": [
        "MODEL Building"
      ],
      "metadata": {
        "id": "AAD2mtCiTWQB"
      }
    },
    {
      "cell_type": "code",
      "execution_count": 31,
      "metadata": {
        "colab": {
          "base_uri": "https://localhost:8080/"
        },
        "id": "1x1Uh20EbKaA",
        "outputId": "34fc6b35-81de-4023-917f-d6256a08a10a"
      },
      "outputs": [
        {
          "output_type": "stream",
          "name": "stdout",
          "text": [
            "Model: \"model_1\"\n",
            "_________________________________________________________________\n",
            " Layer (type)                Output Shape              Param #   \n",
            "=================================================================\n",
            " input_2 (InputLayer)        [(None, 208, 176, 3)]     0         \n",
            "                                                                 \n",
            " block1_conv1 (Conv2D)       (None, 208, 176, 64)      1792      \n",
            "                                                                 \n",
            " block1_conv2 (Conv2D)       (None, 208, 176, 64)      36928     \n",
            "                                                                 \n",
            " block1_pool (MaxPooling2D)  (None, 104, 88, 64)       0         \n",
            "                                                                 \n",
            " block2_conv1 (Conv2D)       (None, 104, 88, 128)      73856     \n",
            "                                                                 \n",
            " block2_conv2 (Conv2D)       (None, 104, 88, 128)      147584    \n",
            "                                                                 \n",
            " block2_pool (MaxPooling2D)  (None, 52, 44, 128)       0         \n",
            "                                                                 \n",
            " block3_conv1 (Conv2D)       (None, 52, 44, 256)       295168    \n",
            "                                                                 \n",
            " block3_conv2 (Conv2D)       (None, 52, 44, 256)       590080    \n",
            "                                                                 \n",
            " block3_conv3 (Conv2D)       (None, 52, 44, 256)       590080    \n",
            "                                                                 \n",
            " block3_pool (MaxPooling2D)  (None, 26, 22, 256)       0         \n",
            "                                                                 \n",
            " block4_conv1 (Conv2D)       (None, 26, 22, 512)       1180160   \n",
            "                                                                 \n",
            " block4_conv2 (Conv2D)       (None, 26, 22, 512)       2359808   \n",
            "                                                                 \n",
            " block4_conv3 (Conv2D)       (None, 26, 22, 512)       2359808   \n",
            "                                                                 \n",
            " block4_pool (MaxPooling2D)  (None, 13, 11, 512)       0         \n",
            "                                                                 \n",
            " block5_conv1 (Conv2D)       (None, 13, 11, 512)       2359808   \n",
            "                                                                 \n",
            " block5_conv2 (Conv2D)       (None, 13, 11, 512)       2359808   \n",
            "                                                                 \n",
            " block5_conv3 (Conv2D)       (None, 13, 11, 512)       2359808   \n",
            "                                                                 \n",
            " block5_pool (MaxPooling2D)  (None, 6, 5, 512)         0         \n",
            "                                                                 \n",
            " sequential_1 (Sequential)   (None, 4)                 3999236   \n",
            "                                                                 \n",
            "=================================================================\n",
            "Total params: 18,713,924\n",
            "Trainable params: 18,713,924\n",
            "Non-trainable params: 0\n",
            "_________________________________________________________________\n"
          ]
        },
        {
          "output_type": "stream",
          "name": "stderr",
          "text": [
            "/usr/local/lib/python3.7/dist-packages/keras/optimizer_v2/gradient_descent.py:102: UserWarning: The `lr` argument is deprecated, use `learning_rate` instead.\n",
            "  super(SGD, self).__init__(name, **kwargs)\n"
          ]
        }
      ],
      "source": [
        "base_model= keras.applications.vgg16.VGG16(weights= 'imagenet', include_top= False, input_shape=(img_height, img_width, 3))\n",
        "\n",
        "add_model= Sequential()\n",
        "add_model.add(Flatten(input_shape=base_model.output_shape[1:]))\n",
        "add_model.add(Dense(256, activation= 'relu'))\n",
        "add_model.add(Dense(256, activation= 'relu'))\n",
        "add_model.add(Dense(4, activation='softmax'))\n",
        "\n",
        "model= Model(inputs= base_model.input, outputs=add_model(base_model.output))\n",
        "model.compile(loss='categorical_crossentropy', optimizer=tf.keras.optimizers.SGD(lr=1e-4, momentum=0.9),\n",
        "              metrics=['accuracy'])\n",
        "\n",
        "model.summary()"
      ]
    },
    {
      "cell_type": "code",
      "execution_count": 32,
      "metadata": {
        "id": "iV9XIIdUlzjr"
      },
      "outputs": [],
      "source": [
        "#loading already trained model for further training\n",
        "#from keras.models import load_model\n",
        "#model=load_model('/content/drive/MyDrive/Alzheimer_s Dataset/alzheimers125.h5')"
      ]
    },
    {
      "cell_type": "markdown",
      "source": [
        "*Training the model*"
      ],
      "metadata": {
        "id": "C1H0Otf-T3eK"
      }
    },
    {
      "cell_type": "code",
      "execution_count": 33,
      "metadata": {
        "id": "vaaM_tkqbE6a",
        "colab": {
          "base_uri": "https://localhost:8080/"
        },
        "outputId": "e4b7adfb-1854-48ad-b730-e2ef7996033a"
      },
      "outputs": [
        {
          "output_type": "stream",
          "name": "stderr",
          "text": [
            "/usr/local/lib/python3.7/dist-packages/ipykernel_launcher.py:4: UserWarning: `Model.fit_generator` is deprecated and will be removed in a future version. Please use `Model.fit`, which supports generators.\n",
            "  after removing the cwd from sys.path.\n"
          ]
        },
        {
          "output_type": "stream",
          "name": "stdout",
          "text": [
            "Epoch 1/25\n",
            "161/161 [==============================] - 1061s 6s/step - loss: 0.0711 - accuracy: 0.9742 - val_loss: 1.0845 - val_accuracy: 0.7342\n",
            "Epoch 2/25\n",
            "161/161 [==============================] - 77s 480ms/step - loss: 0.0604 - accuracy: 0.9779 - val_loss: 1.1729 - val_accuracy: 0.7482\n",
            "Epoch 3/25\n",
            "161/161 [==============================] - 77s 476ms/step - loss: 0.0747 - accuracy: 0.9736 - val_loss: 1.1319 - val_accuracy: 0.7639\n",
            "Epoch 4/25\n",
            "161/161 [==============================] - 77s 479ms/step - loss: 0.0546 - accuracy: 0.9826 - val_loss: 1.0980 - val_accuracy: 0.7490\n",
            "Epoch 5/25\n",
            "161/161 [==============================] - 77s 477ms/step - loss: 0.0597 - accuracy: 0.9801 - val_loss: 1.0614 - val_accuracy: 0.7482\n",
            "Epoch 6/25\n",
            "161/161 [==============================] - 77s 474ms/step - loss: 0.0541 - accuracy: 0.9785 - val_loss: 1.2716 - val_accuracy: 0.7349\n",
            "Epoch 7/25\n",
            "161/161 [==============================] - 76s 474ms/step - loss: 0.0562 - accuracy: 0.9801 - val_loss: 1.0774 - val_accuracy: 0.7647\n",
            "Epoch 8/25\n",
            "161/161 [==============================] - 76s 469ms/step - loss: 0.0709 - accuracy: 0.9748 - val_loss: 1.0878 - val_accuracy: 0.7740\n",
            "Epoch 9/25\n",
            "161/161 [==============================] - 76s 471ms/step - loss: 0.0573 - accuracy: 0.9803 - val_loss: 1.0558 - val_accuracy: 0.7615\n",
            "Epoch 10/25\n",
            "161/161 [==============================] - 76s 471ms/step - loss: 0.0451 - accuracy: 0.9840 - val_loss: 1.1961 - val_accuracy: 0.7608\n",
            "Epoch 11/25\n",
            "161/161 [==============================] - 77s 476ms/step - loss: 0.0577 - accuracy: 0.9814 - val_loss: 1.4691 - val_accuracy: 0.7647\n",
            "Epoch 12/25\n",
            "161/161 [==============================] - 77s 476ms/step - loss: 0.0505 - accuracy: 0.9820 - val_loss: 1.6889 - val_accuracy: 0.7349\n",
            "Epoch 13/25\n",
            "161/161 [==============================] - 76s 474ms/step - loss: 0.0702 - accuracy: 0.9742 - val_loss: 1.2156 - val_accuracy: 0.7451\n",
            "Epoch 14/25\n",
            "161/161 [==============================] - 77s 477ms/step - loss: 0.0601 - accuracy: 0.9766 - val_loss: 1.1914 - val_accuracy: 0.7561\n",
            "Epoch 15/25\n",
            "161/161 [==============================] - 76s 473ms/step - loss: 0.0450 - accuracy: 0.9838 - val_loss: 1.1914 - val_accuracy: 0.7639\n",
            "Epoch 16/25\n",
            "161/161 [==============================] - 76s 471ms/step - loss: 0.0501 - accuracy: 0.9842 - val_loss: 1.7836 - val_accuracy: 0.7318\n",
            "Epoch 17/25\n",
            "161/161 [==============================] - 76s 472ms/step - loss: 0.0419 - accuracy: 0.9852 - val_loss: 1.2840 - val_accuracy: 0.7717\n",
            "Epoch 18/25\n",
            "161/161 [==============================] - 76s 474ms/step - loss: 0.0433 - accuracy: 0.9854 - val_loss: 1.3266 - val_accuracy: 0.7592\n",
            "Epoch 19/25\n",
            "161/161 [==============================] - 77s 474ms/step - loss: 0.0356 - accuracy: 0.9879 - val_loss: 1.2054 - val_accuracy: 0.7639\n",
            "Epoch 20/25\n",
            "161/161 [==============================] - 77s 476ms/step - loss: 0.0478 - accuracy: 0.9832 - val_loss: 1.1192 - val_accuracy: 0.7780\n",
            "Epoch 21/25\n",
            "161/161 [==============================] - 77s 476ms/step - loss: 0.0464 - accuracy: 0.9814 - val_loss: 1.0680 - val_accuracy: 0.7631\n",
            "Epoch 22/25\n",
            "161/161 [==============================] - 78s 480ms/step - loss: 0.0402 - accuracy: 0.9875 - val_loss: 1.2858 - val_accuracy: 0.7592\n",
            "Epoch 23/25\n",
            "161/161 [==============================] - 78s 480ms/step - loss: 0.0514 - accuracy: 0.9828 - val_loss: 1.4203 - val_accuracy: 0.7412\n",
            "Epoch 24/25\n",
            "161/161 [==============================] - 77s 479ms/step - loss: 0.0478 - accuracy: 0.9820 - val_loss: 1.2907 - val_accuracy: 0.7725\n",
            "Epoch 25/25\n",
            "161/161 [==============================] - 77s 479ms/step - loss: 0.0393 - accuracy: 0.9871 - val_loss: 1.3014 - val_accuracy: 0.7553\n"
          ]
        },
        {
          "output_type": "execute_result",
          "data": {
            "text/plain": [
              "<keras.callbacks.History at 0x7feb8fa9e550>"
            ]
          },
          "metadata": {},
          "execution_count": 33
        }
      ],
      "source": [
        "model.fit_generator(train_generator,\n",
        "        epochs=25,\n",
        "        validation_data=test_generator,\n",
        "        verbose=1,)"
      ]
    },
    {
      "cell_type": "markdown",
      "source": [
        "*Saving the model for further use*"
      ],
      "metadata": {
        "id": "IocEE-rkT64s"
      }
    },
    {
      "cell_type": "code",
      "source": [
        "#from keras.models import load_model\n",
        "model.save(\"alzheimers.h5\")"
      ],
      "metadata": {
        "id": "-FjqsN6savRz"
      },
      "execution_count": 34,
      "outputs": []
    },
    {
      "cell_type": "markdown",
      "source": [
        "***#Driver code for user input***"
      ],
      "metadata": {
        "id": "7owUqChSTjvQ"
      }
    },
    {
      "cell_type": "code",
      "execution_count": 35,
      "metadata": {
        "id": "1bYqV21ZSdzL",
        "colab": {
          "resources": {
            "http://localhost:8080/nbextensions/google.colab/files.js": {
              "data": "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",
              "ok": true,
              "headers": [
                [
                  "content-type",
                  "application/javascript"
                ]
              ],
              "status": 200,
              "status_text": ""
            }
          },
          "base_uri": "https://localhost:8080/",
          "height": 142
        },
        "outputId": "d107738e-fa08-4fe5-897a-012e72056949"
      },
      "outputs": [
        {
          "output_type": "display_data",
          "data": {
            "text/html": [
              "\n",
              "     <input type=\"file\" id=\"files-94096db8-4879-4eb4-8d6b-eec2baf87405\" name=\"files[]\" multiple disabled\n",
              "        style=\"border:none\" />\n",
              "     <output id=\"result-94096db8-4879-4eb4-8d6b-eec2baf87405\">\n",
              "      Upload widget is only available when the cell has been executed in the\n",
              "      current browser session. Please rerun this cell to enable.\n",
              "      </output>\n",
              "      <script src=\"/nbextensions/google.colab/files.js\"></script> "
            ],
            "text/plain": [
              "<IPython.core.display.HTML object>"
            ]
          },
          "metadata": {}
        },
        {
          "output_type": "stream",
          "name": "stdout",
          "text": [
            "Saving mildDem0.jpg to mildDem0 (9).jpg\n",
            "\n",
            "Image uploaded: mildDem0.jpg\n",
            "\n",
            "PREDICTION: Mild Dementia\n"
          ]
        }
      ],
      "source": [
        "import numpy as np\n",
        "from google.colab import files\n",
        "from keras.preprocessing import image\n",
        "\n",
        "uploaded = files.upload()\n",
        "d={'0':'Mild Dementia','1':'Moderate Dementia','2':'No Dementia','3':'Very Mild Dementia'}\n",
        "\n",
        "for fn in uploaded.keys():\n",
        "\n",
        "  path = '/content/' + fn\n",
        "   \n",
        "  \n",
        "  img=image.load_img(path,target_size=(208,176))\n",
        "  \n",
        "  x = image.img_to_array(img)\n",
        "  x = np.expand_dims(x, axis=0)\n",
        "  images = np.vstack([x])\n",
        "  \n",
        "  classes = model.predict(images, batch_size=batch_size1)\n",
        "  key=str(np.argmax(classes[0]))\n",
        "  print(\"\\nImage uploaded:\",fn)\n",
        "  print(\"\\nPREDICTION:\",d[key])"
      ]
    }
  ],
  "metadata": {
    "accelerator": "GPU",
    "colab": {
      "collapsed_sections": [],
      "name": "project_1.ipynb",
      "provenance": []
    },
    "kernelspec": {
      "display_name": "Python 3",
      "name": "python3"
    },
    "language_info": {
      "name": "python"
    }
  },
  "nbformat": 4,
  "nbformat_minor": 0
}